{
 "cells": [
  {
   "cell_type": "code",
   "execution_count": 2,
   "metadata": {},
   "outputs": [
    {
     "name": "stdout",
     "output_type": "stream",
     "text": [
      "債券現價 (萬元) = 1.3\n",
      "債券面值 (萬元) = 1\n",
      "票面利率 (%) = 2\n",
      "期數(年) = 3\n",
      " a = annually、s = semi-annually、 q = quarterly = q q\n",
      "ytm為 -6.913 %\n"
     ]
    }
   ],
   "source": [
    "\"\"\" 計算ytm 可以計算負利率債券!\n",
    "輸入Current Bond Price、Bond Par Value、Bond Coupon Rate (% p.a.)、\n",
    "Years to Maturity、Payment(annually、semi-annually、quarterly)\n",
    "輸出Yield to Maturity (YTM)\n",
    "\"\"\"\n",
    "current_p = float(input(\"債券現價 (萬元) = \")) #Current Bond Price\n",
    "par_p = float(input(\"債券面值 (萬元) = \")) #Bond Par Value\n",
    "coupon_r_input = float(input(\"票面利率 (%) = \")) #Bond Coupon Rate (% p.a.)\n",
    "coupon_r = coupon_r_input / 100\n",
    "y = float(input(\"期數(年) = \")) #Years to Maturity 期數(年)可為非負小數\n",
    "if y <= 0:\n",
    "    print(\"期數不可為零或是負數\")\n",
    "else:\n",
    "    times = 0\n",
    "    payment_mode = str(input(\" a = annually、s = semi-annually、 q = quarterly = q \"))\n",
    "    if payment_mode == \"a\":\n",
    "        times = 1\n",
    "    elif payment_mode == \"s\":\n",
    "        times = 2\n",
    "    elif payment_mode == \"q\":\n",
    "        times = 4\n",
    "    #-----------判斷正負殖利率\n",
    "    pos_nag_interest = 0\n",
    "    if current_p < par_p + coupon_r * par_p * y:\n",
    "        pos_nag_interest = 1 #正\n",
    "    elif current_p == par_p + coupon_r * par_p * y:\n",
    "        pos_nag_interest = 0 #零\n",
    "        print(\"ytm = 0\")\n",
    "    elif current_p > par_p + coupon_r * par_p * y:\n",
    "        pos_nag_interest = -1 #負\n",
    "    if pos_nag_interest != 0:\n",
    "        ytm = 0.0\n",
    "        n = int(y * times) #付息次數\n",
    "        coupon = coupon_r * par_p / times #每次付息金額\n",
    "        for i in range(100000):\n",
    "            pv = 0\n",
    "            test_ytm = i * 0.00001 * pos_nag_interest\n",
    "            for j in range(1,n+1):\n",
    "                pv += coupon / ((1+(test_ytm/times))**j)\n",
    "            pv += par_p / ((1+(test_ytm/times))**n)\n",
    "            if pos_nag_interest == 1: #正\n",
    "                if pv - current_p < 0:\n",
    "                    ytm = test_ytm\n",
    "                    break\n",
    "            if pos_nag_interest == -1: #負\n",
    "                if pv - current_p > 0:\n",
    "                    ytm = test_ytm\n",
    "                    break\n",
    "        print(\"ytm為\",round(ytm*100,3),\"%\")"
   ]
  },
  {
   "cell_type": "code",
   "execution_count": 3,
   "metadata": {},
   "outputs": [
    {
     "name": "stdout",
     "output_type": "stream",
     "text": [
      "債券現價 (萬元) = 95\n",
      "債券面值 (萬元) = 100\n",
      "存續期間(年) = 3\n",
      "3.0 year spot rate of interest: 1.724 %\n",
      "3.0 year spot rate of interest: 1.71 %\n"
     ]
    }
   ],
   "source": [
    "#計算spot rate\n",
    "import math\n",
    "\n",
    "current_p = float(input(\"債券現價 (萬元) = \")) #Current Bond Price\n",
    "par_p = 1 #預設par = 1\n",
    "par_p = float(input(\"債券面值 (萬元) = \")) #Bond Par Value\n",
    "d = float(input(\"存續期間(年) = \")) #Years to Maturity 期數(年)可為非負小數\n",
    "spot_r1 = 0.0\n",
    "spot_r2 = 0.0\n",
    "test = 0.0\n",
    "if d <= 0:\n",
    "    print(\"期數不可為零或是負數\")\n",
    "else:\n",
    "    p = current_p / par_p\n",
    "    spot_r1 = (p ** (-1/d)) -1\n",
    "    spot_r2 = math.log(p)*(-1/d)\n",
    "    test = math.log(spot_r1+1)\n",
    "    print(d,\"year spot rate of interest:\",round(spot_r1*100,3),\"%\")\n",
    "    print(d,\"year spot rate of interest:\",round(spot_r2*100,3),\"%\")"
   ]
  },
  {
   "cell_type": "code",
   "execution_count": 5,
   "metadata": {},
   "outputs": [
    {
     "name": "stdout",
     "output_type": "stream",
     "text": [
      "Time due for the beginning of forward rate(years) = 4\n",
      "Duration of forward rate(years) = 3\n",
      "Price of 3.0 year unit zero coupon bond = 100\n",
      "Price of 7.0 year unit zero coupon bond = 97\n",
      "3.0 year forward rate of interest beginning 4.0 years from now: 1.02 %\n",
      "3.0 year forward rate of interest beginning 4.0 years from now: 1.015 %\n"
     ]
    }
   ],
   "source": [
    "#forward rate\n",
    "import math\n",
    "\n",
    "t = float(input(\"Time due for the beginning of forward rate(years) = \")) #Time due for the beginning of forward rate(years)\n",
    "r = float(input(\"Duration of forward rate(years) = \")) #Duration of forward rate(years)\n",
    "current_p = float(input(\"Price of \"+str(r)+\" year unit zero coupon bond = \")) #Current Bond Price\n",
    "total_y = r+t\n",
    "par_p = float(input(\"Price of \"+str(total_y)+\" year unit zero coupon bond = \")) #Bond Par Value\n",
    "forward_r1 = 0.0\n",
    "forward_r2 = 0.0\n",
    "if r <= 0 or t <= 0:\n",
    "    print(\"期數不可為零或是負數\")\n",
    "else:\n",
    "    p = current_p / par_p\n",
    "    forward_r1 = (p ** (1/r)) -1\n",
    "    forward_r2 = math.log(p)*(1/r)\n",
    "    test = math.log(forward_r1+1)\n",
    "    print(r,\"year forward rate of interest beginning\",t,\"years from now:\",round(forward_r1*100,3),\"%\")\n",
    "    print(r,\"year forward rate of interest beginning\",t,\"years from now:\",round(forward_r2*100,3),\"%\")"
   ]
  },
  {
   "cell_type": "code",
   "execution_count": 7,
   "metadata": {},
   "outputs": [
    {
     "name": "stdout",
     "output_type": "stream",
     "text": [
      "Time due for the beginning of forward rate(years): = 5\n",
      "Price of 3.0 year unit zero coupon bond: = 4\n",
      "Price of 5 year unit zero coupon bond: = 3\n"
     ]
    },
    {
     "data": {
      "image/png": "[encoded data removed]",
      "text/plain": [
       "<Figure size 864x864 with 1 Axes>"
      ]
     },
     "metadata": {
      "needs_background": "light"
     },
     "output_type": "display_data"
    }
   ],
   "source": [
    "#forward rate\n",
    "import math\n",
    "\n",
    "t = float(input(\"Time due for the beginning of forward rate(years): = \")) #Years to Maturity 期數(年)\n",
    "current_p = float(input(\"Price of \"+str(r)+\" year unit zero coupon bond: = \")) #Current Bond Price\n",
    "total_y = int(t)\n",
    "par_p = float(input(\"Price of \"+str(total_y)+\" year unit zero coupon bond: = \")) #Bond Par Value\n",
    "\n",
    "ans_li = []\n",
    "for i in range(total_y):\n",
    "    ans_li.append([str(i)])\n",
    "if t <= 0:\n",
    "    print(\"期數不可為零或是負數\")\n",
    "else:\n",
    "    for x in range(total_y):\n",
    "        for y in range(total_y):\n",
    "            if x >= y:\n",
    "                ans_li[x].append(\"\")\n",
    "            else:\n",
    "                forward_r1 = 0.0\n",
    "                p = current_p / par_p\n",
    "                forward_r1 = (p ** (1/y-x)) -1\n",
    "                ans_li[x].append(str(round(forward_r1*100,3))+\"%\")\n",
    "    #---------------------------------以下用matplotlib製作表格輸出\n",
    "    import matplotlib.pyplot as plt\n",
    "    import pandas as pd\n",
    "    plt.figure(figsize=(12, 12))\n",
    "    font = {'family' : 'DFKai-SB',\n",
    "    'weight' : 'bold',\n",
    "    'size'  : '30'} #字型設定\n",
    "    plt.rc('font', **font) #字型設定 # pass in the font dict as kwargs\n",
    "    plt.rc('axes',unicode_minus=False) #字型設定\n",
    "    col_labels = [\"各期編號\"]\n",
    "    for i in range(total_y):\n",
    "        col_labels.append(str(i))\n",
    "    row_colors = [] \n",
    "    for i in range(total_y+1):\n",
    "        if i%2 == 0:\n",
    "            row_colors.append(\"silver\")\n",
    "        else:\n",
    "            row_colors.append(\"silver\")\n",
    "    plt.axis('off')\n",
    "    present_l2 = pd.DataFrame(ans_li, columns=col_labels)\n",
    "    plt.table(cellText=present_l2.values, colLabels=present_l2.columns,loc='right',colColours=row_colors,cellLoc = 'center', bbox=[1,1,total_y*0.2, total_y*0.1])\n",
    "    plt.show() #以表格輸出"
   ]
  },
  {
   "cell_type": "code",
   "execution_count": 8,
   "metadata": {},
   "outputs": [
    {
     "name": "stdout",
     "output_type": "stream",
     "text": [
      "  各期編號 0        1         2         3         4\n",
      "0    0    33.333%    15.47%   10.064%    7.457%\n",
      "1    1             -13.397%  -17.452%  -19.407%\n",
      "2    2                       -38.089%  -39.555%\n",
      "3    3                                 -54.667%\n",
      "4    4                                         \n"
     ]
    }
   ],
   "source": [
    "print(present_l2)"
   ]
  },
  {
   "cell_type": "code",
   "execution_count": null,
   "metadata": {},
   "outputs": [],
   "source": []
  }
 ],
 "metadata": {
  "kernelspec": {
   "display_name": "Python 3",
   "language": "python",
   "name": "python3"
  },
  "language_info": {
   "codemirror_mode": {
    "name": "ipython",
    "version": 3
   },
   "file_extension": ".py",
   "mimetype": "text/x-python",
   "name": "python",
   "nbconvert_exporter": "python",
   "pygments_lexer": "ipython3",
   "version": "3.6.4"
  }
 },
 "nbformat": 4,
 "nbformat_minor": 2
}
