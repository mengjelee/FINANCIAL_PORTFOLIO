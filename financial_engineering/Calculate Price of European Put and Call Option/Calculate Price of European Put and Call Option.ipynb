{
 "cells": [
  {
   "cell_type": "markdown",
   "metadata": {},
   "source": [
    "### hw4 - Calculate Price of European Put and Call Option"
   ]
  },
  {
   "cell_type": "code",
   "execution_count": 58,
   "metadata": {},
   "outputs": [
    {
     "name": "stdout",
     "output_type": "stream",
     "text": [
      "Enter current price of underlying stock : 75\n",
      "Enter standard deviation : 0.35\n",
      "times dividend paid in a year (1, 2, 4) : 2\n",
      "Enter dividend : 1\n",
      "Enter interest rate (%) : 6\n",
      "strike price : 65\n",
      "maturity from now (year) : 0.5\n",
      "dividend yield :  0.026\n",
      "d1 :  0.7153362388600112\n",
      "d2 :  0.46784886544471954\n",
      "call price :  12.806\n",
      "put price :  2.86\n"
     ]
    }
   ],
   "source": [
    "# Calculate Price of European Put and Call Option\n",
    "import numpy as np\n",
    "import scipy.stats\n",
    "import math\n",
    "\n",
    "c_p = float(input(\"Enter current price of underlying stock : \"))\n",
    "sd = float(input(\"Enter standard deviation : \"))\n",
    "p_times = int(input(\"times dividend paid in a year (1, 2, 4) : \"))\n",
    "d = float(input(\"Enter dividend : \"))\n",
    "r_input = float(input(\"Enter interest rate (%) : \"))\n",
    "r = r_input / 100\n",
    "k = float(input(\"strike price : \"))\n",
    "t = float(input(\"maturity from now (year) : \"))\n",
    "\n",
    "d_pv = 0\n",
    "\n",
    "# 計算dividend折現值及dividend yield\n",
    "if t <= 1:\n",
    "    for i in range(p_times):\n",
    "        d_pv += d*np.exp(-r*(3*i+1)/12)\n",
    "if t > 1:\n",
    "    if p_times == 1:\n",
    "        if t % 1 != 0:\n",
    "            j = int(t)+1\n",
    "            for i in range(j):\n",
    "                d_pv += d*np.exp(-r*(i+1))\n",
    "        else:\n",
    "            for i in range(t):\n",
    "                d_pv += d*np.exp(-r*(i+1))\n",
    "    if p_times == 4:\n",
    "        for i in range(int(t*p_times)):\n",
    "            d_pv += d*np.exp(-r*(3*i+1)/12)\n",
    "\n",
    "p = c_p - d_pv\n",
    "dividend_yield = d_pv/c_p\n",
    "print(\"dividend yield : \", round(d_pv/c_p,3))\n",
    "\n",
    "# Black Scholes formula\n",
    "call = 0\n",
    "put = 0\n",
    "d1 = (math.log(p/k)+(r+((sd**2)/2))*t)/(sd*(t**(1/2)))\n",
    "print(\"d1 : \", d1)\n",
    "d2 = (math.log(p/k)+(r-((sd**2)/2))*t)/(sd*(t**(1/2)))\n",
    "print(\"d2 : \", d2)\n",
    "\n",
    "call = p*scipy.stats.norm(0, 1).cdf(d1) - k*(np.exp(-r*t))*scipy.stats.norm(0, 1).cdf(d2)\n",
    "print(\"call price : \", round(call,3))\n",
    "\n",
    "put = k*(np.exp(-r*t))*scipy.stats.norm(0, 1).cdf(-d2) - p*scipy.stats.norm(0, 1).cdf(-d1)\n",
    "print(\"put price : \", round(put,3))\n",
    "\n"
   ]
  },
  {
   "cell_type": "markdown",
   "metadata": {},
   "source": [
    "### Different formula\n",
    "#### 不計算p head，而是在計算公式時以現價乘以(e^(-dividend_yield*t))代替\n",
    "#### 參考網站 : https://goodcalculators.com/black-scholes-calculator/"
   ]
  },
  {
   "cell_type": "code",
   "execution_count": 59,
   "metadata": {},
   "outputs": [
    {
     "name": "stdout",
     "output_type": "stream",
     "text": [
      "call price :  13.564\n",
      "put price :  2.625\n"
     ]
    }
   ],
   "source": [
    "# different formula\n",
    "call1 = c_p*(np.exp(-dividend_yield*t))*scipy.stats.norm(0, 1).cdf(d1) - k*(np.exp(-r*t))*scipy.stats.norm(0, 1).cdf(d2)\n",
    "print(\"call price : \", round(call1,3))\n",
    "\n",
    "put1 = k*(np.exp(-r*t))*scipy.stats.norm(0, 1).cdf(-d2) - c_p*(np.exp(-dividend_yield*t))*scipy.stats.norm(0, 1).cdf(-d1)\n",
    "print(\"put price : \", round(put1,3))"
   ]
  },
  {
   "cell_type": "code",
   "execution_count": null,
   "metadata": {},
   "outputs": [],
   "source": []
  }
 ],
 "metadata": {
  "kernelspec": {
   "display_name": "Python 3",
   "language": "python",
   "name": "python3"
  },
  "language_info": {
   "codemirror_mode": {
    "name": "ipython",
    "version": 3
   },
   "file_extension": ".py",
   "mimetype": "text/x-python",
   "name": "python",
   "nbconvert_exporter": "python",
   "pygments_lexer": "ipython3",
   "version": "3.6.4"
  }
 },
 "nbformat": 4,
 "nbformat_minor": 2
}
